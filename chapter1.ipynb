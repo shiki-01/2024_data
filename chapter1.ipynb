{
 "cells": [
  {
   "cell_type": "markdown",
   "id": "f83631cc15461a92",
   "metadata": {},
   "source": [
    "# 表データを読み込む\n",
    "\n",
    "データ分析では、基本的に表データ（テーブル）を扱う。表データとは、行と列からなるデータで、行がデータレコード、列がデータ項目を表す。表データを読み込む方法はいくつかあるが、ここでは、Python のライブラリ Pandas を使う。"
   ]
  },
  {
   "cell_type": "markdown",
   "id": "1641de839caa5c8a",
   "metadata": {},
   "source": [
    "## リスト 2.1"
   ]
  },
  {
   "cell_type": "code",
   "id": "3b6d124d32a00030",
   "metadata": {
    "ExecuteTime": {
     "end_time": "2024-09-24T01:27:31.302379Z",
     "start_time": "2024-09-24T01:27:31.295873Z"
    }
   },
   "source": [
    "import pandas as pd\n",
    "\n",
    "data = [\n",
    "    [60, 65, 66],\n",
    "    [80, 85, 88],\n",
    "    [100, 100, 100],\n",
    "]\n",
    "\n",
    "df = pd.DataFrame(data)\n",
    "df"
   ],
   "outputs": [
    {
     "data": {
      "text/plain": [
       "     0    1    2\n",
       "0   60   65   66\n",
       "1   80   85   88\n",
       "2  100  100  100"
      ],
      "text/html": [
       "<div>\n",
       "<style scoped>\n",
       "    .dataframe tbody tr th:only-of-type {\n",
       "        vertical-align: middle;\n",
       "    }\n",
       "\n",
       "    .dataframe tbody tr th {\n",
       "        vertical-align: top;\n",
       "    }\n",
       "\n",
       "    .dataframe thead th {\n",
       "        text-align: right;\n",
       "    }\n",
       "</style>\n",
       "<table border=\"1\" class=\"dataframe\">\n",
       "  <thead>\n",
       "    <tr style=\"text-align: right;\">\n",
       "      <th></th>\n",
       "      <th>0</th>\n",
       "      <th>1</th>\n",
       "      <th>2</th>\n",
       "    </tr>\n",
       "  </thead>\n",
       "  <tbody>\n",
       "    <tr>\n",
       "      <th>0</th>\n",
       "      <td>60</td>\n",
       "      <td>65</td>\n",
       "      <td>66</td>\n",
       "    </tr>\n",
       "    <tr>\n",
       "      <th>1</th>\n",
       "      <td>80</td>\n",
       "      <td>85</td>\n",
       "      <td>88</td>\n",
       "    </tr>\n",
       "    <tr>\n",
       "      <th>2</th>\n",
       "      <td>100</td>\n",
       "      <td>100</td>\n",
       "      <td>100</td>\n",
       "    </tr>\n",
       "  </tbody>\n",
       "</table>\n",
       "</div>"
      ]
     },
     "execution_count": 47,
     "metadata": {},
     "output_type": "execute_result"
    }
   ],
   "execution_count": 47
  },
  {
   "metadata": {},
   "cell_type": "markdown",
   "source": "## リスト 2.2",
   "id": "c83a0116d48588a0"
  },
  {
   "metadata": {
    "ExecuteTime": {
     "end_time": "2024-09-24T01:27:31.366937Z",
     "start_time": "2024-09-24T01:27:31.361036Z"
    }
   },
   "cell_type": "code",
   "source": [
    "df.columns = ['国語', '数学', '英語']\n",
    "df.index = ['A太', 'B介', 'C子']\n",
    "df"
   ],
   "id": "6fdded83ffc0b56",
   "outputs": [
    {
     "data": {
      "text/plain": [
       "     国語   数学   英語\n",
       "A太   60   65   66\n",
       "B介   80   85   88\n",
       "C子  100  100  100"
      ],
      "text/html": [
       "<div>\n",
       "<style scoped>\n",
       "    .dataframe tbody tr th:only-of-type {\n",
       "        vertical-align: middle;\n",
       "    }\n",
       "\n",
       "    .dataframe tbody tr th {\n",
       "        vertical-align: top;\n",
       "    }\n",
       "\n",
       "    .dataframe thead th {\n",
       "        text-align: right;\n",
       "    }\n",
       "</style>\n",
       "<table border=\"1\" class=\"dataframe\">\n",
       "  <thead>\n",
       "    <tr style=\"text-align: right;\">\n",
       "      <th></th>\n",
       "      <th>国語</th>\n",
       "      <th>数学</th>\n",
       "      <th>英語</th>\n",
       "    </tr>\n",
       "  </thead>\n",
       "  <tbody>\n",
       "    <tr>\n",
       "      <th>A太</th>\n",
       "      <td>60</td>\n",
       "      <td>65</td>\n",
       "      <td>66</td>\n",
       "    </tr>\n",
       "    <tr>\n",
       "      <th>B介</th>\n",
       "      <td>80</td>\n",
       "      <td>85</td>\n",
       "      <td>88</td>\n",
       "    </tr>\n",
       "    <tr>\n",
       "      <th>C子</th>\n",
       "      <td>100</td>\n",
       "      <td>100</td>\n",
       "      <td>100</td>\n",
       "    </tr>\n",
       "  </tbody>\n",
       "</table>\n",
       "</div>"
      ]
     },
     "execution_count": 48,
     "metadata": {},
     "output_type": "execute_result"
    }
   ],
   "execution_count": 48
  },
  {
   "metadata": {},
   "cell_type": "markdown",
   "source": "## リスト 2.5",
   "id": "b883855952afc4f9"
  },
  {
   "metadata": {
    "ExecuteTime": {
     "end_time": "2024-09-24T01:27:31.437220Z",
     "start_time": "2024-09-24T01:27:31.429439Z"
    }
   },
   "cell_type": "code",
   "source": [
    "import pandas as pd\n",
    "\n",
    "df = pd.read_csv('./data/test.csv')\n",
    "df"
   ],
   "id": "8a82957867092605",
   "outputs": [
    {
     "data": {
      "text/plain": [
       "   名前   国語  数学  英語  学生番号\n",
       "0  A太   83  89  76  A001\n",
       "1  B介   66  93  75  B001\n",
       "2  C子  100  84  96  B002\n",
       "3  D郎   60  73  40  A002\n",
       "4  E美   92  62  84  C001\n",
       "5  F菜   96  92  94  C002"
      ],
      "text/html": [
       "<div>\n",
       "<style scoped>\n",
       "    .dataframe tbody tr th:only-of-type {\n",
       "        vertical-align: middle;\n",
       "    }\n",
       "\n",
       "    .dataframe tbody tr th {\n",
       "        vertical-align: top;\n",
       "    }\n",
       "\n",
       "    .dataframe thead th {\n",
       "        text-align: right;\n",
       "    }\n",
       "</style>\n",
       "<table border=\"1\" class=\"dataframe\">\n",
       "  <thead>\n",
       "    <tr style=\"text-align: right;\">\n",
       "      <th></th>\n",
       "      <th>名前</th>\n",
       "      <th>国語</th>\n",
       "      <th>数学</th>\n",
       "      <th>英語</th>\n",
       "      <th>学生番号</th>\n",
       "    </tr>\n",
       "  </thead>\n",
       "  <tbody>\n",
       "    <tr>\n",
       "      <th>0</th>\n",
       "      <td>A太</td>\n",
       "      <td>83</td>\n",
       "      <td>89</td>\n",
       "      <td>76</td>\n",
       "      <td>A001</td>\n",
       "    </tr>\n",
       "    <tr>\n",
       "      <th>1</th>\n",
       "      <td>B介</td>\n",
       "      <td>66</td>\n",
       "      <td>93</td>\n",
       "      <td>75</td>\n",
       "      <td>B001</td>\n",
       "    </tr>\n",
       "    <tr>\n",
       "      <th>2</th>\n",
       "      <td>C子</td>\n",
       "      <td>100</td>\n",
       "      <td>84</td>\n",
       "      <td>96</td>\n",
       "      <td>B002</td>\n",
       "    </tr>\n",
       "    <tr>\n",
       "      <th>3</th>\n",
       "      <td>D郎</td>\n",
       "      <td>60</td>\n",
       "      <td>73</td>\n",
       "      <td>40</td>\n",
       "      <td>A002</td>\n",
       "    </tr>\n",
       "    <tr>\n",
       "      <th>4</th>\n",
       "      <td>E美</td>\n",
       "      <td>92</td>\n",
       "      <td>62</td>\n",
       "      <td>84</td>\n",
       "      <td>C001</td>\n",
       "    </tr>\n",
       "    <tr>\n",
       "      <th>5</th>\n",
       "      <td>F菜</td>\n",
       "      <td>96</td>\n",
       "      <td>92</td>\n",
       "      <td>94</td>\n",
       "      <td>C002</td>\n",
       "    </tr>\n",
       "  </tbody>\n",
       "</table>\n",
       "</div>"
      ]
     },
     "execution_count": 49,
     "metadata": {},
     "output_type": "execute_result"
    }
   ],
   "execution_count": 49
  },
  {
   "metadata": {},
   "cell_type": "markdown",
   "source": "## リスト 2.7",
   "id": "7acaf76649936fd1"
  },
  {
   "metadata": {
    "ExecuteTime": {
     "end_time": "2024-09-24T01:27:31.558891Z",
     "start_time": "2024-09-24T01:27:31.550828Z"
    }
   },
   "cell_type": "code",
   "source": [
    "import pandas as pd\n",
    "\n",
    "df = pd.read_csv('./data/test.csv', index_col=0)\n",
    "df"
   ],
   "id": "84e4772ca6bcb8bd",
   "outputs": [
    {
     "data": {
      "text/plain": [
       "     国語  数学  英語  学生番号\n",
       "名前                   \n",
       "A太   83  89  76  A001\n",
       "B介   66  93  75  B001\n",
       "C子  100  84  96  B002\n",
       "D郎   60  73  40  A002\n",
       "E美   92  62  84  C001\n",
       "F菜   96  92  94  C002"
      ],
      "text/html": [
       "<div>\n",
       "<style scoped>\n",
       "    .dataframe tbody tr th:only-of-type {\n",
       "        vertical-align: middle;\n",
       "    }\n",
       "\n",
       "    .dataframe tbody tr th {\n",
       "        vertical-align: top;\n",
       "    }\n",
       "\n",
       "    .dataframe thead th {\n",
       "        text-align: right;\n",
       "    }\n",
       "</style>\n",
       "<table border=\"1\" class=\"dataframe\">\n",
       "  <thead>\n",
       "    <tr style=\"text-align: right;\">\n",
       "      <th></th>\n",
       "      <th>国語</th>\n",
       "      <th>数学</th>\n",
       "      <th>英語</th>\n",
       "      <th>学生番号</th>\n",
       "    </tr>\n",
       "    <tr>\n",
       "      <th>名前</th>\n",
       "      <th></th>\n",
       "      <th></th>\n",
       "      <th></th>\n",
       "      <th></th>\n",
       "    </tr>\n",
       "  </thead>\n",
       "  <tbody>\n",
       "    <tr>\n",
       "      <th>A太</th>\n",
       "      <td>83</td>\n",
       "      <td>89</td>\n",
       "      <td>76</td>\n",
       "      <td>A001</td>\n",
       "    </tr>\n",
       "    <tr>\n",
       "      <th>B介</th>\n",
       "      <td>66</td>\n",
       "      <td>93</td>\n",
       "      <td>75</td>\n",
       "      <td>B001</td>\n",
       "    </tr>\n",
       "    <tr>\n",
       "      <th>C子</th>\n",
       "      <td>100</td>\n",
       "      <td>84</td>\n",
       "      <td>96</td>\n",
       "      <td>B002</td>\n",
       "    </tr>\n",
       "    <tr>\n",
       "      <th>D郎</th>\n",
       "      <td>60</td>\n",
       "      <td>73</td>\n",
       "      <td>40</td>\n",
       "      <td>A002</td>\n",
       "    </tr>\n",
       "    <tr>\n",
       "      <th>E美</th>\n",
       "      <td>92</td>\n",
       "      <td>62</td>\n",
       "      <td>84</td>\n",
       "      <td>C001</td>\n",
       "    </tr>\n",
       "    <tr>\n",
       "      <th>F菜</th>\n",
       "      <td>96</td>\n",
       "      <td>92</td>\n",
       "      <td>94</td>\n",
       "      <td>C002</td>\n",
       "    </tr>\n",
       "  </tbody>\n",
       "</table>\n",
       "</div>"
      ]
     },
     "execution_count": 50,
     "metadata": {},
     "output_type": "execute_result"
    }
   ],
   "execution_count": 50
  },
  {
   "metadata": {},
   "cell_type": "markdown",
   "source": "## リスト 2.8",
   "id": "fea9a58ba5329883"
  },
  {
   "metadata": {
    "ExecuteTime": {
     "end_time": "2024-09-24T01:27:31.683434Z",
     "start_time": "2024-09-24T01:27:31.675423Z"
    }
   },
   "cell_type": "code",
   "source": [
    "import pandas as pd\n",
    "\n",
    "df = pd.read_csv('./data/test.csv', index_col=0, header=None)\n",
    "df"
   ],
   "id": "a9cca1bc3921e73e",
   "outputs": [
    {
     "data": {
      "text/plain": [
       "      1   2   3     4\n",
       "0                    \n",
       "名前   国語  数学  英語  学生番号\n",
       "A太   83  89  76  A001\n",
       "B介   66  93  75  B001\n",
       "C子  100  84  96  B002\n",
       "D郎   60  73  40  A002\n",
       "E美   92  62  84  C001\n",
       "F菜   96  92  94  C002"
      ],
      "text/html": [
       "<div>\n",
       "<style scoped>\n",
       "    .dataframe tbody tr th:only-of-type {\n",
       "        vertical-align: middle;\n",
       "    }\n",
       "\n",
       "    .dataframe tbody tr th {\n",
       "        vertical-align: top;\n",
       "    }\n",
       "\n",
       "    .dataframe thead th {\n",
       "        text-align: right;\n",
       "    }\n",
       "</style>\n",
       "<table border=\"1\" class=\"dataframe\">\n",
       "  <thead>\n",
       "    <tr style=\"text-align: right;\">\n",
       "      <th></th>\n",
       "      <th>1</th>\n",
       "      <th>2</th>\n",
       "      <th>3</th>\n",
       "      <th>4</th>\n",
       "    </tr>\n",
       "    <tr>\n",
       "      <th>0</th>\n",
       "      <th></th>\n",
       "      <th></th>\n",
       "      <th></th>\n",
       "      <th></th>\n",
       "    </tr>\n",
       "  </thead>\n",
       "  <tbody>\n",
       "    <tr>\n",
       "      <th>名前</th>\n",
       "      <td>国語</td>\n",
       "      <td>数学</td>\n",
       "      <td>英語</td>\n",
       "      <td>学生番号</td>\n",
       "    </tr>\n",
       "    <tr>\n",
       "      <th>A太</th>\n",
       "      <td>83</td>\n",
       "      <td>89</td>\n",
       "      <td>76</td>\n",
       "      <td>A001</td>\n",
       "    </tr>\n",
       "    <tr>\n",
       "      <th>B介</th>\n",
       "      <td>66</td>\n",
       "      <td>93</td>\n",
       "      <td>75</td>\n",
       "      <td>B001</td>\n",
       "    </tr>\n",
       "    <tr>\n",
       "      <th>C子</th>\n",
       "      <td>100</td>\n",
       "      <td>84</td>\n",
       "      <td>96</td>\n",
       "      <td>B002</td>\n",
       "    </tr>\n",
       "    <tr>\n",
       "      <th>D郎</th>\n",
       "      <td>60</td>\n",
       "      <td>73</td>\n",
       "      <td>40</td>\n",
       "      <td>A002</td>\n",
       "    </tr>\n",
       "    <tr>\n",
       "      <th>E美</th>\n",
       "      <td>92</td>\n",
       "      <td>62</td>\n",
       "      <td>84</td>\n",
       "      <td>C001</td>\n",
       "    </tr>\n",
       "    <tr>\n",
       "      <th>F菜</th>\n",
       "      <td>96</td>\n",
       "      <td>92</td>\n",
       "      <td>94</td>\n",
       "      <td>C002</td>\n",
       "    </tr>\n",
       "  </tbody>\n",
       "</table>\n",
       "</div>"
      ]
     },
     "execution_count": 51,
     "metadata": {},
     "output_type": "execute_result"
    }
   ],
   "execution_count": 51
  },
  {
   "metadata": {},
   "cell_type": "markdown",
   "source": [
    "# データを眺める\n",
    "\n",
    "データを読み込んだら、データの内容を確認する。データの行数、列数、データ型、統計量などを確認することができる。"
   ],
   "id": "756c2cc09f1009df"
  },
  {
   "metadata": {},
   "cell_type": "markdown",
   "source": "## リスト 2.9",
   "id": "2734e5468115862a"
  },
  {
   "metadata": {
    "ExecuteTime": {
     "end_time": "2024-09-24T01:27:31.863329Z",
     "start_time": "2024-09-24T01:27:31.854934Z"
    }
   },
   "cell_type": "code",
   "source": [
    "import pandas as pd\n",
    "\n",
    "df = pd.read_csv('./data/test.csv', index_col=0)\n",
    "df.head()"
   ],
   "id": "a26569bd1bc421fe",
   "outputs": [
    {
     "data": {
      "text/plain": [
       "     国語  数学  英語  学生番号\n",
       "名前                   \n",
       "A太   83  89  76  A001\n",
       "B介   66  93  75  B001\n",
       "C子  100  84  96  B002\n",
       "D郎   60  73  40  A002\n",
       "E美   92  62  84  C001"
      ],
      "text/html": [
       "<div>\n",
       "<style scoped>\n",
       "    .dataframe tbody tr th:only-of-type {\n",
       "        vertical-align: middle;\n",
       "    }\n",
       "\n",
       "    .dataframe tbody tr th {\n",
       "        vertical-align: top;\n",
       "    }\n",
       "\n",
       "    .dataframe thead th {\n",
       "        text-align: right;\n",
       "    }\n",
       "</style>\n",
       "<table border=\"1\" class=\"dataframe\">\n",
       "  <thead>\n",
       "    <tr style=\"text-align: right;\">\n",
       "      <th></th>\n",
       "      <th>国語</th>\n",
       "      <th>数学</th>\n",
       "      <th>英語</th>\n",
       "      <th>学生番号</th>\n",
       "    </tr>\n",
       "    <tr>\n",
       "      <th>名前</th>\n",
       "      <th></th>\n",
       "      <th></th>\n",
       "      <th></th>\n",
       "      <th></th>\n",
       "    </tr>\n",
       "  </thead>\n",
       "  <tbody>\n",
       "    <tr>\n",
       "      <th>A太</th>\n",
       "      <td>83</td>\n",
       "      <td>89</td>\n",
       "      <td>76</td>\n",
       "      <td>A001</td>\n",
       "    </tr>\n",
       "    <tr>\n",
       "      <th>B介</th>\n",
       "      <td>66</td>\n",
       "      <td>93</td>\n",
       "      <td>75</td>\n",
       "      <td>B001</td>\n",
       "    </tr>\n",
       "    <tr>\n",
       "      <th>C子</th>\n",
       "      <td>100</td>\n",
       "      <td>84</td>\n",
       "      <td>96</td>\n",
       "      <td>B002</td>\n",
       "    </tr>\n",
       "    <tr>\n",
       "      <th>D郎</th>\n",
       "      <td>60</td>\n",
       "      <td>73</td>\n",
       "      <td>40</td>\n",
       "      <td>A002</td>\n",
       "    </tr>\n",
       "    <tr>\n",
       "      <th>E美</th>\n",
       "      <td>92</td>\n",
       "      <td>62</td>\n",
       "      <td>84</td>\n",
       "      <td>C001</td>\n",
       "    </tr>\n",
       "  </tbody>\n",
       "</table>\n",
       "</div>"
      ]
     },
     "execution_count": 52,
     "metadata": {},
     "output_type": "execute_result"
    }
   ],
   "execution_count": 52
  },
  {
   "metadata": {},
   "cell_type": "markdown",
   "source": "## リスト 2.10",
   "id": "49a09f6196583e8d"
  },
  {
   "metadata": {
    "ExecuteTime": {
     "end_time": "2024-09-24T01:27:31.998628Z",
     "start_time": "2024-09-24T01:27:31.994422Z"
    }
   },
   "cell_type": "code",
   "source": "df.columns",
   "id": "8c5a89c01e4e6a53",
   "outputs": [
    {
     "data": {
      "text/plain": [
       "Index(['国語', '数学', '英語', '学生番号'], dtype='object')"
      ]
     },
     "execution_count": 53,
     "metadata": {},
     "output_type": "execute_result"
    }
   ],
   "execution_count": 53
  },
  {
   "metadata": {},
   "cell_type": "markdown",
   "source": "## リスト 2.11",
   "id": "bde0f8376265675c"
  },
  {
   "metadata": {
    "ExecuteTime": {
     "end_time": "2024-09-24T01:27:32.288588Z",
     "start_time": "2024-09-24T01:27:32.284635Z"
    }
   },
   "cell_type": "code",
   "source": "df.index",
   "id": "7c53eace06395714",
   "outputs": [
    {
     "data": {
      "text/plain": [
       "Index(['A太', 'B介', 'C子', 'D郎', 'E美', 'F菜'], dtype='object', name='名前')"
      ]
     },
     "execution_count": 54,
     "metadata": {},
     "output_type": "execute_result"
    }
   ],
   "execution_count": 54
  },
  {
   "metadata": {},
   "cell_type": "markdown",
   "source": "## リスト 2.12",
   "id": "f2bb3586a8ff44e7"
  },
  {
   "metadata": {
    "ExecuteTime": {
     "end_time": "2024-09-24T01:27:32.423883Z",
     "start_time": "2024-09-24T01:27:32.419523Z"
    }
   },
   "cell_type": "code",
   "source": [
    "# 列名をリストに変換する\n",
    "list1 = [i for i in df.columns]\n",
    "list1"
   ],
   "id": "e1a5a702fd60c5f",
   "outputs": [
    {
     "data": {
      "text/plain": [
       "['国語', '数学', '英語', '学生番号']"
      ]
     },
     "execution_count": 55,
     "metadata": {},
     "output_type": "execute_result"
    }
   ],
   "execution_count": 55
  },
  {
   "metadata": {
    "ExecuteTime": {
     "end_time": "2024-09-24T01:27:32.509665Z",
     "start_time": "2024-09-24T01:27:32.505524Z"
    }
   },
   "cell_type": "code",
   "source": [
    "# 行名をリストに変換する\n",
    "list2 = [i for i in df.index]\n",
    "list2"
   ],
   "id": "6b70f820a9f3df6a",
   "outputs": [
    {
     "data": {
      "text/plain": [
       "['A太', 'B介', 'C子', 'D郎', 'E美', 'F菜']"
      ]
     },
     "execution_count": 56,
     "metadata": {},
     "output_type": "execute_result"
    }
   ],
   "execution_count": 56
  },
  {
   "metadata": {},
   "cell_type": "markdown",
   "source": "## リスト 2.13",
   "id": "1929bf38209c7637"
  },
  {
   "metadata": {
    "ExecuteTime": {
     "end_time": "2024-09-24T01:27:32.581834Z",
     "start_time": "2024-09-24T01:27:32.576481Z"
    }
   },
   "cell_type": "code",
   "source": "df.dtypes",
   "id": "40793459a5503f4e",
   "outputs": [
    {
     "data": {
      "text/plain": [
       "国語       int64\n",
       "数学       int64\n",
       "英語       int64\n",
       "学生番号    object\n",
       "dtype: object"
      ]
     },
     "execution_count": 57,
     "metadata": {},
     "output_type": "execute_result"
    }
   ],
   "execution_count": 57
  },
  {
   "metadata": {},
   "cell_type": "markdown",
   "source": "## リスト 2.14",
   "id": "132b1f467861d19a"
  },
  {
   "metadata": {
    "ExecuteTime": {
     "end_time": "2024-09-24T01:27:32.633277Z",
     "start_time": "2024-09-24T01:27:32.629264Z"
    }
   },
   "cell_type": "code",
   "source": "len(df)",
   "id": "ea53bf8f5d7bbb88",
   "outputs": [
    {
     "data": {
      "text/plain": [
       "6"
      ]
     },
     "execution_count": 58,
     "metadata": {},
     "output_type": "execute_result"
    }
   ],
   "execution_count": 58
  },
  {
   "metadata": {},
   "cell_type": "markdown",
   "source": "## リスト 2.15",
   "id": "75b6225635405ac8"
  },
  {
   "metadata": {
    "ExecuteTime": {
     "end_time": "2024-09-24T01:27:32.719593Z",
     "start_time": "2024-09-24T01:27:32.714754Z"
    }
   },
   "cell_type": "code",
   "source": "df['国語']",
   "id": "d0589d12857863f",
   "outputs": [
    {
     "data": {
      "text/plain": [
       "名前\n",
       "A太     83\n",
       "B介     66\n",
       "C子    100\n",
       "D郎     60\n",
       "E美     92\n",
       "F菜     96\n",
       "Name: 国語, dtype: int64"
      ]
     },
     "execution_count": 59,
     "metadata": {},
     "output_type": "execute_result"
    }
   ],
   "execution_count": 59
  },
  {
   "metadata": {},
   "cell_type": "markdown",
   "source": "## リスト 2.16",
   "id": "5d6340e2ad1a9dfc"
  },
  {
   "metadata": {
    "ExecuteTime": {
     "end_time": "2024-09-24T01:27:32.817805Z",
     "start_time": "2024-09-24T01:27:32.811109Z"
    }
   },
   "cell_type": "code",
   "source": "df[['国語', '数学']]",
   "id": "8b5a2c42e158015c",
   "outputs": [
    {
     "data": {
      "text/plain": [
       "     国語  数学\n",
       "名前         \n",
       "A太   83  89\n",
       "B介   66  93\n",
       "C子  100  84\n",
       "D郎   60  73\n",
       "E美   92  62\n",
       "F菜   96  92"
      ],
      "text/html": [
       "<div>\n",
       "<style scoped>\n",
       "    .dataframe tbody tr th:only-of-type {\n",
       "        vertical-align: middle;\n",
       "    }\n",
       "\n",
       "    .dataframe tbody tr th {\n",
       "        vertical-align: top;\n",
       "    }\n",
       "\n",
       "    .dataframe thead th {\n",
       "        text-align: right;\n",
       "    }\n",
       "</style>\n",
       "<table border=\"1\" class=\"dataframe\">\n",
       "  <thead>\n",
       "    <tr style=\"text-align: right;\">\n",
       "      <th></th>\n",
       "      <th>国語</th>\n",
       "      <th>数学</th>\n",
       "    </tr>\n",
       "    <tr>\n",
       "      <th>名前</th>\n",
       "      <th></th>\n",
       "      <th></th>\n",
       "    </tr>\n",
       "  </thead>\n",
       "  <tbody>\n",
       "    <tr>\n",
       "      <th>A太</th>\n",
       "      <td>83</td>\n",
       "      <td>89</td>\n",
       "    </tr>\n",
       "    <tr>\n",
       "      <th>B介</th>\n",
       "      <td>66</td>\n",
       "      <td>93</td>\n",
       "    </tr>\n",
       "    <tr>\n",
       "      <th>C子</th>\n",
       "      <td>100</td>\n",
       "      <td>84</td>\n",
       "    </tr>\n",
       "    <tr>\n",
       "      <th>D郎</th>\n",
       "      <td>60</td>\n",
       "      <td>73</td>\n",
       "    </tr>\n",
       "    <tr>\n",
       "      <th>E美</th>\n",
       "      <td>92</td>\n",
       "      <td>62</td>\n",
       "    </tr>\n",
       "    <tr>\n",
       "      <th>F菜</th>\n",
       "      <td>96</td>\n",
       "      <td>92</td>\n",
       "    </tr>\n",
       "  </tbody>\n",
       "</table>\n",
       "</div>"
      ]
     },
     "execution_count": 60,
     "metadata": {},
     "output_type": "execute_result"
    }
   ],
   "execution_count": 60
  },
  {
   "metadata": {},
   "cell_type": "markdown",
   "source": "## リスト 2.17",
   "id": "719663fdebc762ec"
  },
  {
   "metadata": {
    "ExecuteTime": {
     "end_time": "2024-09-24T01:27:32.890122Z",
     "start_time": "2024-09-24T01:27:32.883551Z"
    }
   },
   "cell_type": "code",
   "source": "df.iloc[[0]]",
   "id": "102204bd65eb3464",
   "outputs": [
    {
     "data": {
      "text/plain": [
       "    国語  数学  英語  学生番号\n",
       "名前                  \n",
       "A太  83  89  76  A001"
      ],
      "text/html": [
       "<div>\n",
       "<style scoped>\n",
       "    .dataframe tbody tr th:only-of-type {\n",
       "        vertical-align: middle;\n",
       "    }\n",
       "\n",
       "    .dataframe tbody tr th {\n",
       "        vertical-align: top;\n",
       "    }\n",
       "\n",
       "    .dataframe thead th {\n",
       "        text-align: right;\n",
       "    }\n",
       "</style>\n",
       "<table border=\"1\" class=\"dataframe\">\n",
       "  <thead>\n",
       "    <tr style=\"text-align: right;\">\n",
       "      <th></th>\n",
       "      <th>国語</th>\n",
       "      <th>数学</th>\n",
       "      <th>英語</th>\n",
       "      <th>学生番号</th>\n",
       "    </tr>\n",
       "    <tr>\n",
       "      <th>名前</th>\n",
       "      <th></th>\n",
       "      <th></th>\n",
       "      <th></th>\n",
       "      <th></th>\n",
       "    </tr>\n",
       "  </thead>\n",
       "  <tbody>\n",
       "    <tr>\n",
       "      <th>A太</th>\n",
       "      <td>83</td>\n",
       "      <td>89</td>\n",
       "      <td>76</td>\n",
       "      <td>A001</td>\n",
       "    </tr>\n",
       "  </tbody>\n",
       "</table>\n",
       "</div>"
      ]
     },
     "execution_count": 61,
     "metadata": {},
     "output_type": "execute_result"
    }
   ],
   "execution_count": 61
  },
  {
   "metadata": {},
   "cell_type": "markdown",
   "source": "## リスト 2.18",
   "id": "9200704aeaab1dea"
  },
  {
   "metadata": {
    "ExecuteTime": {
     "end_time": "2024-09-24T01:27:33.082586Z",
     "start_time": "2024-09-24T01:27:33.076587Z"
    }
   },
   "cell_type": "code",
   "source": "df.iloc[[0, 3]]",
   "id": "e2ab8fb3b98f7be0",
   "outputs": [
    {
     "data": {
      "text/plain": [
       "    国語  数学  英語  学生番号\n",
       "名前                  \n",
       "A太  83  89  76  A001\n",
       "D郎  60  73  40  A002"
      ],
      "text/html": [
       "<div>\n",
       "<style scoped>\n",
       "    .dataframe tbody tr th:only-of-type {\n",
       "        vertical-align: middle;\n",
       "    }\n",
       "\n",
       "    .dataframe tbody tr th {\n",
       "        vertical-align: top;\n",
       "    }\n",
       "\n",
       "    .dataframe thead th {\n",
       "        text-align: right;\n",
       "    }\n",
       "</style>\n",
       "<table border=\"1\" class=\"dataframe\">\n",
       "  <thead>\n",
       "    <tr style=\"text-align: right;\">\n",
       "      <th></th>\n",
       "      <th>国語</th>\n",
       "      <th>数学</th>\n",
       "      <th>英語</th>\n",
       "      <th>学生番号</th>\n",
       "    </tr>\n",
       "    <tr>\n",
       "      <th>名前</th>\n",
       "      <th></th>\n",
       "      <th></th>\n",
       "      <th></th>\n",
       "      <th></th>\n",
       "    </tr>\n",
       "  </thead>\n",
       "  <tbody>\n",
       "    <tr>\n",
       "      <th>A太</th>\n",
       "      <td>83</td>\n",
       "      <td>89</td>\n",
       "      <td>76</td>\n",
       "      <td>A001</td>\n",
       "    </tr>\n",
       "    <tr>\n",
       "      <th>D郎</th>\n",
       "      <td>60</td>\n",
       "      <td>73</td>\n",
       "      <td>40</td>\n",
       "      <td>A002</td>\n",
       "    </tr>\n",
       "  </tbody>\n",
       "</table>\n",
       "</div>"
      ]
     },
     "execution_count": 62,
     "metadata": {},
     "output_type": "execute_result"
    }
   ],
   "execution_count": 62
  },
  {
   "metadata": {},
   "cell_type": "markdown",
   "source": "## リスト 2.19",
   "id": "3ad8f8e543034754"
  },
  {
   "metadata": {
    "ExecuteTime": {
     "end_time": "2024-09-24T01:27:33.181912Z",
     "start_time": "2024-09-24T01:27:33.177411Z"
    }
   },
   "cell_type": "code",
   "source": "df.iloc[0]['国語']",
   "id": "cc7bb92f1c31886f",
   "outputs": [
    {
     "data": {
      "text/plain": [
       "83"
      ]
     },
     "execution_count": 63,
     "metadata": {},
     "output_type": "execute_result"
    }
   ],
   "execution_count": 63
  },
  {
   "metadata": {},
   "cell_type": "markdown",
   "source": [
    "# 列データや行データを追加する\n",
    "\n",
    "データフレームに列データや行データを追加することができる。"
   ],
   "id": "a8ec98e60ee2f9c3"
  },
  {
   "metadata": {},
   "cell_type": "markdown",
   "source": "## リスト 2.20",
   "id": "40bbd6e05d3e4950"
  },
  {
   "metadata": {
    "ExecuteTime": {
     "end_time": "2024-09-24T01:27:33.348573Z",
     "start_time": "2024-09-24T01:27:33.340180Z"
    }
   },
   "cell_type": "code",
   "source": [
    "import pandas as pd\n",
    "\n",
    "dfA = pd.read_csv('./data/test.csv', index_col=0)\n",
    "\n",
    "dfB = pd.DataFrame()\n",
    "dfB['国語'] = dfA['国語']\n",
    "dfB"
   ],
   "id": "b0ac29daa3ca3a30",
   "outputs": [
    {
     "data": {
      "text/plain": [
       "     国語\n",
       "名前     \n",
       "A太   83\n",
       "B介   66\n",
       "C子  100\n",
       "D郎   60\n",
       "E美   92\n",
       "F菜   96"
      ],
      "text/html": [
       "<div>\n",
       "<style scoped>\n",
       "    .dataframe tbody tr th:only-of-type {\n",
       "        vertical-align: middle;\n",
       "    }\n",
       "\n",
       "    .dataframe tbody tr th {\n",
       "        vertical-align: top;\n",
       "    }\n",
       "\n",
       "    .dataframe thead th {\n",
       "        text-align: right;\n",
       "    }\n",
       "</style>\n",
       "<table border=\"1\" class=\"dataframe\">\n",
       "  <thead>\n",
       "    <tr style=\"text-align: right;\">\n",
       "      <th></th>\n",
       "      <th>国語</th>\n",
       "    </tr>\n",
       "    <tr>\n",
       "      <th>名前</th>\n",
       "      <th></th>\n",
       "    </tr>\n",
       "  </thead>\n",
       "  <tbody>\n",
       "    <tr>\n",
       "      <th>A太</th>\n",
       "      <td>83</td>\n",
       "    </tr>\n",
       "    <tr>\n",
       "      <th>B介</th>\n",
       "      <td>66</td>\n",
       "    </tr>\n",
       "    <tr>\n",
       "      <th>C子</th>\n",
       "      <td>100</td>\n",
       "    </tr>\n",
       "    <tr>\n",
       "      <th>D郎</th>\n",
       "      <td>60</td>\n",
       "    </tr>\n",
       "    <tr>\n",
       "      <th>E美</th>\n",
       "      <td>92</td>\n",
       "    </tr>\n",
       "    <tr>\n",
       "      <th>F菜</th>\n",
       "      <td>96</td>\n",
       "    </tr>\n",
       "  </tbody>\n",
       "</table>\n",
       "</div>"
      ]
     },
     "execution_count": 64,
     "metadata": {},
     "output_type": "execute_result"
    }
   ],
   "execution_count": 64
  },
  {
   "metadata": {},
   "cell_type": "markdown",
   "source": "## リスト 2.21",
   "id": "61fa6d20f9426ec"
  },
  {
   "metadata": {
    "ExecuteTime": {
     "end_time": "2024-09-24T01:27:33.424246Z",
     "start_time": "2024-09-24T01:27:33.416125Z"
    }
   },
   "cell_type": "code",
   "source": [
    "dfA = pd.read_csv('./data/test.csv', index_col=0)\n",
    "\n",
    "dfB = pd.DataFrame()\n",
    "dfB = pd.concat([dfB, dfA.iloc[[0]]])\n",
    "dfB"
   ],
   "id": "53eb59bbbc7b51bd",
   "outputs": [
    {
     "data": {
      "text/plain": [
       "    国語  数学  英語  学生番号\n",
       "名前                  \n",
       "A太  83  89  76  A001"
      ],
      "text/html": [
       "<div>\n",
       "<style scoped>\n",
       "    .dataframe tbody tr th:only-of-type {\n",
       "        vertical-align: middle;\n",
       "    }\n",
       "\n",
       "    .dataframe tbody tr th {\n",
       "        vertical-align: top;\n",
       "    }\n",
       "\n",
       "    .dataframe thead th {\n",
       "        text-align: right;\n",
       "    }\n",
       "</style>\n",
       "<table border=\"1\" class=\"dataframe\">\n",
       "  <thead>\n",
       "    <tr style=\"text-align: right;\">\n",
       "      <th></th>\n",
       "      <th>国語</th>\n",
       "      <th>数学</th>\n",
       "      <th>英語</th>\n",
       "      <th>学生番号</th>\n",
       "    </tr>\n",
       "    <tr>\n",
       "      <th>名前</th>\n",
       "      <th></th>\n",
       "      <th></th>\n",
       "      <th></th>\n",
       "      <th></th>\n",
       "    </tr>\n",
       "  </thead>\n",
       "  <tbody>\n",
       "    <tr>\n",
       "      <th>A太</th>\n",
       "      <td>83</td>\n",
       "      <td>89</td>\n",
       "      <td>76</td>\n",
       "      <td>A001</td>\n",
       "    </tr>\n",
       "  </tbody>\n",
       "</table>\n",
       "</div>"
      ]
     },
     "execution_count": 65,
     "metadata": {},
     "output_type": "execute_result"
    }
   ],
   "execution_count": 65
  },
  {
   "metadata": {},
   "cell_type": "markdown",
   "source": "## リスト 2.22",
   "id": "7fea9062f01817b9"
  },
  {
   "metadata": {
    "ExecuteTime": {
     "end_time": "2024-09-24T01:27:33.546306Z",
     "start_time": "2024-09-24T01:27:33.538440Z"
    }
   },
   "cell_type": "code",
   "source": [
    "dfA = pd.read_csv('./data/test.csv', index_col=0)\n",
    "\n",
    "dfA = dfA.drop('国語', axis=1)\n",
    "dfA"
   ],
   "id": "e2791d058631d701",
   "outputs": [
    {
     "data": {
      "text/plain": [
       "    数学  英語  学生番号\n",
       "名前              \n",
       "A太  89  76  A001\n",
       "B介  93  75  B001\n",
       "C子  84  96  B002\n",
       "D郎  73  40  A002\n",
       "E美  62  84  C001\n",
       "F菜  92  94  C002"
      ],
      "text/html": [
       "<div>\n",
       "<style scoped>\n",
       "    .dataframe tbody tr th:only-of-type {\n",
       "        vertical-align: middle;\n",
       "    }\n",
       "\n",
       "    .dataframe tbody tr th {\n",
       "        vertical-align: top;\n",
       "    }\n",
       "\n",
       "    .dataframe thead th {\n",
       "        text-align: right;\n",
       "    }\n",
       "</style>\n",
       "<table border=\"1\" class=\"dataframe\">\n",
       "  <thead>\n",
       "    <tr style=\"text-align: right;\">\n",
       "      <th></th>\n",
       "      <th>数学</th>\n",
       "      <th>英語</th>\n",
       "      <th>学生番号</th>\n",
       "    </tr>\n",
       "    <tr>\n",
       "      <th>名前</th>\n",
       "      <th></th>\n",
       "      <th></th>\n",
       "      <th></th>\n",
       "    </tr>\n",
       "  </thead>\n",
       "  <tbody>\n",
       "    <tr>\n",
       "      <th>A太</th>\n",
       "      <td>89</td>\n",
       "      <td>76</td>\n",
       "      <td>A001</td>\n",
       "    </tr>\n",
       "    <tr>\n",
       "      <th>B介</th>\n",
       "      <td>93</td>\n",
       "      <td>75</td>\n",
       "      <td>B001</td>\n",
       "    </tr>\n",
       "    <tr>\n",
       "      <th>C子</th>\n",
       "      <td>84</td>\n",
       "      <td>96</td>\n",
       "      <td>B002</td>\n",
       "    </tr>\n",
       "    <tr>\n",
       "      <th>D郎</th>\n",
       "      <td>73</td>\n",
       "      <td>40</td>\n",
       "      <td>A002</td>\n",
       "    </tr>\n",
       "    <tr>\n",
       "      <th>E美</th>\n",
       "      <td>62</td>\n",
       "      <td>84</td>\n",
       "      <td>C001</td>\n",
       "    </tr>\n",
       "    <tr>\n",
       "      <th>F菜</th>\n",
       "      <td>92</td>\n",
       "      <td>94</td>\n",
       "      <td>C002</td>\n",
       "    </tr>\n",
       "  </tbody>\n",
       "</table>\n",
       "</div>"
      ]
     },
     "execution_count": 66,
     "metadata": {},
     "output_type": "execute_result"
    }
   ],
   "execution_count": 66
  },
  {
   "metadata": {},
   "cell_type": "markdown",
   "source": "## リスト 2.23",
   "id": "9b7dbb486e37a502"
  },
  {
   "metadata": {
    "ExecuteTime": {
     "end_time": "2024-09-24T01:27:33.690183Z",
     "start_time": "2024-09-24T01:27:33.680883Z"
    }
   },
   "cell_type": "code",
   "source": [
    "dfA = pd.read_csv('./data/test.csv', index_col=0)\n",
    "\n",
    "dfA = dfA.drop(dfA.index[3])\n",
    "dfA"
   ],
   "id": "3864a8d41c062137",
   "outputs": [
    {
     "data": {
      "text/plain": [
       "     国語  数学  英語  学生番号\n",
       "名前                   \n",
       "A太   83  89  76  A001\n",
       "B介   66  93  75  B001\n",
       "C子  100  84  96  B002\n",
       "E美   92  62  84  C001\n",
       "F菜   96  92  94  C002"
      ],
      "text/html": [
       "<div>\n",
       "<style scoped>\n",
       "    .dataframe tbody tr th:only-of-type {\n",
       "        vertical-align: middle;\n",
       "    }\n",
       "\n",
       "    .dataframe tbody tr th {\n",
       "        vertical-align: top;\n",
       "    }\n",
       "\n",
       "    .dataframe thead th {\n",
       "        text-align: right;\n",
       "    }\n",
       "</style>\n",
       "<table border=\"1\" class=\"dataframe\">\n",
       "  <thead>\n",
       "    <tr style=\"text-align: right;\">\n",
       "      <th></th>\n",
       "      <th>国語</th>\n",
       "      <th>数学</th>\n",
       "      <th>英語</th>\n",
       "      <th>学生番号</th>\n",
       "    </tr>\n",
       "    <tr>\n",
       "      <th>名前</th>\n",
       "      <th></th>\n",
       "      <th></th>\n",
       "      <th></th>\n",
       "      <th></th>\n",
       "    </tr>\n",
       "  </thead>\n",
       "  <tbody>\n",
       "    <tr>\n",
       "      <th>A太</th>\n",
       "      <td>83</td>\n",
       "      <td>89</td>\n",
       "      <td>76</td>\n",
       "      <td>A001</td>\n",
       "    </tr>\n",
       "    <tr>\n",
       "      <th>B介</th>\n",
       "      <td>66</td>\n",
       "      <td>93</td>\n",
       "      <td>75</td>\n",
       "      <td>B001</td>\n",
       "    </tr>\n",
       "    <tr>\n",
       "      <th>C子</th>\n",
       "      <td>100</td>\n",
       "      <td>84</td>\n",
       "      <td>96</td>\n",
       "      <td>B002</td>\n",
       "    </tr>\n",
       "    <tr>\n",
       "      <th>E美</th>\n",
       "      <td>92</td>\n",
       "      <td>62</td>\n",
       "      <td>84</td>\n",
       "      <td>C001</td>\n",
       "    </tr>\n",
       "    <tr>\n",
       "      <th>F菜</th>\n",
       "      <td>96</td>\n",
       "      <td>92</td>\n",
       "      <td>94</td>\n",
       "      <td>C002</td>\n",
       "    </tr>\n",
       "  </tbody>\n",
       "</table>\n",
       "</div>"
      ]
     },
     "execution_count": 67,
     "metadata": {},
     "output_type": "execute_result"
    }
   ],
   "execution_count": 67
  },
  {
   "metadata": {},
   "cell_type": "markdown",
   "source": "## リスト 2.24",
   "id": "39f5e34b600e8d04"
  },
  {
   "metadata": {
    "ExecuteTime": {
     "end_time": "2024-09-24T01:27:33.933028Z",
     "start_time": "2024-09-24T01:27:33.927519Z"
    }
   },
   "cell_type": "code",
   "source": [
    "dfA = pd.read_csv('./data/test.csv', index_col=0)\n",
    "\n",
    "dfA['国語'] > 80"
   ],
   "id": "26fb058dac491df8",
   "outputs": [
    {
     "data": {
      "text/plain": [
       "名前\n",
       "A太     True\n",
       "B介    False\n",
       "C子     True\n",
       "D郎    False\n",
       "E美     True\n",
       "F菜     True\n",
       "Name: 国語, dtype: bool"
      ]
     },
     "execution_count": 68,
     "metadata": {},
     "output_type": "execute_result"
    }
   ],
   "execution_count": 68
  },
  {
   "metadata": {},
   "cell_type": "markdown",
   "source": "## リスト 2.25",
   "id": "74140c3418d1c3b4"
  },
  {
   "metadata": {
    "ExecuteTime": {
     "end_time": "2024-09-24T01:27:34.056732Z",
     "start_time": "2024-09-24T01:27:34.050758Z"
    }
   },
   "cell_type": "code",
   "source": [
    "dfB = dfA[dfA['国語'] > 80]\n",
    "dfB"
   ],
   "id": "a9d26316662f221b",
   "outputs": [
    {
     "data": {
      "text/plain": [
       "     国語  数学  英語  学生番号\n",
       "名前                   \n",
       "A太   83  89  76  A001\n",
       "C子  100  84  96  B002\n",
       "E美   92  62  84  C001\n",
       "F菜   96  92  94  C002"
      ],
      "text/html": [
       "<div>\n",
       "<style scoped>\n",
       "    .dataframe tbody tr th:only-of-type {\n",
       "        vertical-align: middle;\n",
       "    }\n",
       "\n",
       "    .dataframe tbody tr th {\n",
       "        vertical-align: top;\n",
       "    }\n",
       "\n",
       "    .dataframe thead th {\n",
       "        text-align: right;\n",
       "    }\n",
       "</style>\n",
       "<table border=\"1\" class=\"dataframe\">\n",
       "  <thead>\n",
       "    <tr style=\"text-align: right;\">\n",
       "      <th></th>\n",
       "      <th>国語</th>\n",
       "      <th>数学</th>\n",
       "      <th>英語</th>\n",
       "      <th>学生番号</th>\n",
       "    </tr>\n",
       "    <tr>\n",
       "      <th>名前</th>\n",
       "      <th></th>\n",
       "      <th></th>\n",
       "      <th></th>\n",
       "      <th></th>\n",
       "    </tr>\n",
       "  </thead>\n",
       "  <tbody>\n",
       "    <tr>\n",
       "      <th>A太</th>\n",
       "      <td>83</td>\n",
       "      <td>89</td>\n",
       "      <td>76</td>\n",
       "      <td>A001</td>\n",
       "    </tr>\n",
       "    <tr>\n",
       "      <th>C子</th>\n",
       "      <td>100</td>\n",
       "      <td>84</td>\n",
       "      <td>96</td>\n",
       "      <td>B002</td>\n",
       "    </tr>\n",
       "    <tr>\n",
       "      <th>E美</th>\n",
       "      <td>92</td>\n",
       "      <td>62</td>\n",
       "      <td>84</td>\n",
       "      <td>C001</td>\n",
       "    </tr>\n",
       "    <tr>\n",
       "      <th>F菜</th>\n",
       "      <td>96</td>\n",
       "      <td>92</td>\n",
       "      <td>94</td>\n",
       "      <td>C002</td>\n",
       "    </tr>\n",
       "  </tbody>\n",
       "</table>\n",
       "</div>"
      ]
     },
     "execution_count": 69,
     "metadata": {},
     "output_type": "execute_result"
    }
   ],
   "execution_count": 69
  },
  {
   "metadata": {},
   "cell_type": "markdown",
   "source": "## リスト 2.26",
   "id": "62bd54cea9c00cf7"
  },
  {
   "metadata": {
    "ExecuteTime": {
     "end_time": "2024-09-24T01:27:34.245699Z",
     "start_time": "2024-09-24T01:27:34.239084Z"
    }
   },
   "cell_type": "code",
   "source": [
    "dfB = dfA[(dfA['国語'] > 80) & (dfA['数学'] > 80)]\n",
    "dfB"
   ],
   "id": "2ca238dcc7e33ee0",
   "outputs": [
    {
     "data": {
      "text/plain": [
       "     国語  数学  英語  学生番号\n",
       "名前                   \n",
       "A太   83  89  76  A001\n",
       "C子  100  84  96  B002\n",
       "F菜   96  92  94  C002"
      ],
      "text/html": [
       "<div>\n",
       "<style scoped>\n",
       "    .dataframe tbody tr th:only-of-type {\n",
       "        vertical-align: middle;\n",
       "    }\n",
       "\n",
       "    .dataframe tbody tr th {\n",
       "        vertical-align: top;\n",
       "    }\n",
       "\n",
       "    .dataframe thead th {\n",
       "        text-align: right;\n",
       "    }\n",
       "</style>\n",
       "<table border=\"1\" class=\"dataframe\">\n",
       "  <thead>\n",
       "    <tr style=\"text-align: right;\">\n",
       "      <th></th>\n",
       "      <th>国語</th>\n",
       "      <th>数学</th>\n",
       "      <th>英語</th>\n",
       "      <th>学生番号</th>\n",
       "    </tr>\n",
       "    <tr>\n",
       "      <th>名前</th>\n",
       "      <th></th>\n",
       "      <th></th>\n",
       "      <th></th>\n",
       "      <th></th>\n",
       "    </tr>\n",
       "  </thead>\n",
       "  <tbody>\n",
       "    <tr>\n",
       "      <th>A太</th>\n",
       "      <td>83</td>\n",
       "      <td>89</td>\n",
       "      <td>76</td>\n",
       "      <td>A001</td>\n",
       "    </tr>\n",
       "    <tr>\n",
       "      <th>C子</th>\n",
       "      <td>100</td>\n",
       "      <td>84</td>\n",
       "      <td>96</td>\n",
       "      <td>B002</td>\n",
       "    </tr>\n",
       "    <tr>\n",
       "      <th>F菜</th>\n",
       "      <td>96</td>\n",
       "      <td>92</td>\n",
       "      <td>94</td>\n",
       "      <td>C002</td>\n",
       "    </tr>\n",
       "  </tbody>\n",
       "</table>\n",
       "</div>"
      ]
     },
     "execution_count": 70,
     "metadata": {},
     "output_type": "execute_result"
    }
   ],
   "execution_count": 70
  },
  {
   "metadata": {},
   "cell_type": "markdown",
   "source": [
    "# 欠損値の処理\n",
    "\n",
    "データには欠損値が含まれることがある。欠損値を処理する方法はいくつかあるが、ここでは、欠損値を含む行を削除する方法を紹介する。"
   ],
   "id": "887e2bccd8cbcb8e"
  },
  {
   "metadata": {},
   "cell_type": "markdown",
   "source": "## リスト 2.27",
   "id": "3b8f2a5bb2fa8867"
  },
  {
   "metadata": {
    "ExecuteTime": {
     "end_time": "2024-09-24T01:27:34.390779Z",
     "start_time": "2024-09-24T01:27:34.382369Z"
    }
   },
   "cell_type": "code",
   "source": [
    "import pandas as pd\n",
    "\n",
    "data = {\n",
    "    '国語': [90, 50, None, 40],\n",
    "    '数学': [80, None, None, 50],\n",
    "}\n",
    "\n",
    "idx = ['A太', 'B介', 'C子', 'D郎']\n",
    "\n",
    "dfA = pd.DataFrame(data, index=idx)\n",
    "dfA"
   ],
   "id": "2acbc35d2974d399",
   "outputs": [
    {
     "data": {
      "text/plain": [
       "      国語    数学\n",
       "A太  90.0  80.0\n",
       "B介  50.0   NaN\n",
       "C子   NaN   NaN\n",
       "D郎  40.0  50.0"
      ],
      "text/html": [
       "<div>\n",
       "<style scoped>\n",
       "    .dataframe tbody tr th:only-of-type {\n",
       "        vertical-align: middle;\n",
       "    }\n",
       "\n",
       "    .dataframe tbody tr th {\n",
       "        vertical-align: top;\n",
       "    }\n",
       "\n",
       "    .dataframe thead th {\n",
       "        text-align: right;\n",
       "    }\n",
       "</style>\n",
       "<table border=\"1\" class=\"dataframe\">\n",
       "  <thead>\n",
       "    <tr style=\"text-align: right;\">\n",
       "      <th></th>\n",
       "      <th>国語</th>\n",
       "      <th>数学</th>\n",
       "    </tr>\n",
       "  </thead>\n",
       "  <tbody>\n",
       "    <tr>\n",
       "      <th>A太</th>\n",
       "      <td>90.0</td>\n",
       "      <td>80.0</td>\n",
       "    </tr>\n",
       "    <tr>\n",
       "      <th>B介</th>\n",
       "      <td>50.0</td>\n",
       "      <td>NaN</td>\n",
       "    </tr>\n",
       "    <tr>\n",
       "      <th>C子</th>\n",
       "      <td>NaN</td>\n",
       "      <td>NaN</td>\n",
       "    </tr>\n",
       "    <tr>\n",
       "      <th>D郎</th>\n",
       "      <td>40.0</td>\n",
       "      <td>50.0</td>\n",
       "    </tr>\n",
       "  </tbody>\n",
       "</table>\n",
       "</div>"
      ]
     },
     "execution_count": 71,
     "metadata": {},
     "output_type": "execute_result"
    }
   ],
   "execution_count": 71
  },
  {
   "metadata": {},
   "cell_type": "markdown",
   "source": "## リスト 2.28",
   "id": "9362f20f1e0445d3"
  },
  {
   "metadata": {
    "ExecuteTime": {
     "end_time": "2024-09-24T01:27:34.537749Z",
     "start_time": "2024-09-24T01:27:34.532603Z"
    }
   },
   "cell_type": "code",
   "source": "dfA.isnull().sum()",
   "id": "fca2b243815978a3",
   "outputs": [
    {
     "data": {
      "text/plain": [
       "国語    1\n",
       "数学    2\n",
       "dtype: int64"
      ]
     },
     "execution_count": 72,
     "metadata": {},
     "output_type": "execute_result"
    }
   ],
   "execution_count": 72
  },
  {
   "metadata": {},
   "cell_type": "markdown",
   "source": "## リスト 2.30",
   "id": "79817233e61c2db6"
  },
  {
   "metadata": {
    "ExecuteTime": {
     "end_time": "2024-09-24T01:27:34.647566Z",
     "start_time": "2024-09-24T01:27:34.640326Z"
    }
   },
   "cell_type": "code",
   "source": [
    "dfB = dfA.dropna(subset=['国語'])\n",
    "dfB"
   ],
   "id": "43c8962403cc9d81",
   "outputs": [
    {
     "data": {
      "text/plain": [
       "      国語    数学\n",
       "A太  90.0  80.0\n",
       "B介  50.0   NaN\n",
       "D郎  40.0  50.0"
      ],
      "text/html": [
       "<div>\n",
       "<style scoped>\n",
       "    .dataframe tbody tr th:only-of-type {\n",
       "        vertical-align: middle;\n",
       "    }\n",
       "\n",
       "    .dataframe tbody tr th {\n",
       "        vertical-align: top;\n",
       "    }\n",
       "\n",
       "    .dataframe thead th {\n",
       "        text-align: right;\n",
       "    }\n",
       "</style>\n",
       "<table border=\"1\" class=\"dataframe\">\n",
       "  <thead>\n",
       "    <tr style=\"text-align: right;\">\n",
       "      <th></th>\n",
       "      <th>国語</th>\n",
       "      <th>数学</th>\n",
       "    </tr>\n",
       "  </thead>\n",
       "  <tbody>\n",
       "    <tr>\n",
       "      <th>A太</th>\n",
       "      <td>90.0</td>\n",
       "      <td>80.0</td>\n",
       "    </tr>\n",
       "    <tr>\n",
       "      <th>B介</th>\n",
       "      <td>50.0</td>\n",
       "      <td>NaN</td>\n",
       "    </tr>\n",
       "    <tr>\n",
       "      <th>D郎</th>\n",
       "      <td>40.0</td>\n",
       "      <td>50.0</td>\n",
       "    </tr>\n",
       "  </tbody>\n",
       "</table>\n",
       "</div>"
      ]
     },
     "execution_count": 73,
     "metadata": {},
     "output_type": "execute_result"
    }
   ],
   "execution_count": 73
  },
  {
   "metadata": {},
   "cell_type": "markdown",
   "source": "## リスト 2.31",
   "id": "d9b071ed76e40dd3"
  },
  {
   "metadata": {
    "ExecuteTime": {
     "end_time": "2024-09-24T01:27:34.793962Z",
     "start_time": "2024-09-24T01:27:34.786802Z"
    }
   },
   "cell_type": "code",
   "source": [
    "dfB = dfA.fillna(dfA.mean())\n",
    "dfB"
   ],
   "id": "465e6075ac9cedf6",
   "outputs": [
    {
     "data": {
      "text/plain": [
       "      国語    数学\n",
       "A太  90.0  80.0\n",
       "B介  50.0  65.0\n",
       "C子  60.0  65.0\n",
       "D郎  40.0  50.0"
      ],
      "text/html": [
       "<div>\n",
       "<style scoped>\n",
       "    .dataframe tbody tr th:only-of-type {\n",
       "        vertical-align: middle;\n",
       "    }\n",
       "\n",
       "    .dataframe tbody tr th {\n",
       "        vertical-align: top;\n",
       "    }\n",
       "\n",
       "    .dataframe thead th {\n",
       "        text-align: right;\n",
       "    }\n",
       "</style>\n",
       "<table border=\"1\" class=\"dataframe\">\n",
       "  <thead>\n",
       "    <tr style=\"text-align: right;\">\n",
       "      <th></th>\n",
       "      <th>国語</th>\n",
       "      <th>数学</th>\n",
       "    </tr>\n",
       "  </thead>\n",
       "  <tbody>\n",
       "    <tr>\n",
       "      <th>A太</th>\n",
       "      <td>90.0</td>\n",
       "      <td>80.0</td>\n",
       "    </tr>\n",
       "    <tr>\n",
       "      <th>B介</th>\n",
       "      <td>50.0</td>\n",
       "      <td>65.0</td>\n",
       "    </tr>\n",
       "    <tr>\n",
       "      <th>C子</th>\n",
       "      <td>60.0</td>\n",
       "      <td>65.0</td>\n",
       "    </tr>\n",
       "    <tr>\n",
       "      <th>D郎</th>\n",
       "      <td>40.0</td>\n",
       "      <td>50.0</td>\n",
       "    </tr>\n",
       "  </tbody>\n",
       "</table>\n",
       "</div>"
      ]
     },
     "execution_count": 74,
     "metadata": {},
     "output_type": "execute_result"
    }
   ],
   "execution_count": 74
  },
  {
   "metadata": {},
   "cell_type": "markdown",
   "source": "## リスト 2.32",
   "id": "a0e8b9ca61aa6113"
  },
  {
   "metadata": {
    "ExecuteTime": {
     "end_time": "2024-09-24T01:27:34.911512Z",
     "start_time": "2024-09-24T01:27:34.904462Z"
    }
   },
   "cell_type": "code",
   "source": [
    "dfB = dfA.ffill()\n",
    "dfB"
   ],
   "id": "af2c9e13c1c8db64",
   "outputs": [
    {
     "data": {
      "text/plain": [
       "      国語    数学\n",
       "A太  90.0  80.0\n",
       "B介  50.0  80.0\n",
       "C子  50.0  80.0\n",
       "D郎  40.0  50.0"
      ],
      "text/html": [
       "<div>\n",
       "<style scoped>\n",
       "    .dataframe tbody tr th:only-of-type {\n",
       "        vertical-align: middle;\n",
       "    }\n",
       "\n",
       "    .dataframe tbody tr th {\n",
       "        vertical-align: top;\n",
       "    }\n",
       "\n",
       "    .dataframe thead th {\n",
       "        text-align: right;\n",
       "    }\n",
       "</style>\n",
       "<table border=\"1\" class=\"dataframe\">\n",
       "  <thead>\n",
       "    <tr style=\"text-align: right;\">\n",
       "      <th></th>\n",
       "      <th>国語</th>\n",
       "      <th>数学</th>\n",
       "    </tr>\n",
       "  </thead>\n",
       "  <tbody>\n",
       "    <tr>\n",
       "      <th>A太</th>\n",
       "      <td>90.0</td>\n",
       "      <td>80.0</td>\n",
       "    </tr>\n",
       "    <tr>\n",
       "      <th>B介</th>\n",
       "      <td>50.0</td>\n",
       "      <td>80.0</td>\n",
       "    </tr>\n",
       "    <tr>\n",
       "      <th>C子</th>\n",
       "      <td>50.0</td>\n",
       "      <td>80.0</td>\n",
       "    </tr>\n",
       "    <tr>\n",
       "      <th>D郎</th>\n",
       "      <td>40.0</td>\n",
       "      <td>50.0</td>\n",
       "    </tr>\n",
       "  </tbody>\n",
       "</table>\n",
       "</div>"
      ]
     },
     "execution_count": 75,
     "metadata": {},
     "output_type": "execute_result"
    }
   ],
   "execution_count": 75
  },
  {
   "metadata": {},
   "cell_type": "markdown",
   "source": [
    "# 重複したデータを削除する\n",
    "\n",
    "データには重複したデータが含まれることがある。重複したデータを削除する方法を紹介する。"
   ],
   "id": "1fefcf174d89a9be"
  },
  {
   "metadata": {},
   "cell_type": "markdown",
   "source": "## リスト 2.33",
   "id": "8d147272dbbe2ea6"
  },
  {
   "metadata": {
    "ExecuteTime": {
     "end_time": "2024-09-24T01:27:35.066140Z",
     "start_time": "2024-09-24T01:27:35.060421Z"
    }
   },
   "cell_type": "code",
   "source": [
    "import pandas as pd\n",
    "\n",
    "data = [\n",
    "    [10, 30, 40],\n",
    "    [20, 30, 40],\n",
    "    [20, 30, 40],\n",
    "    [30, 30, 50],\n",
    "    [20, 30, 40],\n",
    "]\n",
    "\n",
    "dfA = pd.DataFrame(data)\n",
    "dfA"
   ],
   "id": "982c0c690b835f0c",
   "outputs": [
    {
     "data": {
      "text/plain": [
       "    0   1   2\n",
       "0  10  30  40\n",
       "1  20  30  40\n",
       "2  20  30  40\n",
       "3  30  30  50\n",
       "4  20  30  40"
      ],
      "text/html": [
       "<div>\n",
       "<style scoped>\n",
       "    .dataframe tbody tr th:only-of-type {\n",
       "        vertical-align: middle;\n",
       "    }\n",
       "\n",
       "    .dataframe tbody tr th {\n",
       "        vertical-align: top;\n",
       "    }\n",
       "\n",
       "    .dataframe thead th {\n",
       "        text-align: right;\n",
       "    }\n",
       "</style>\n",
       "<table border=\"1\" class=\"dataframe\">\n",
       "  <thead>\n",
       "    <tr style=\"text-align: right;\">\n",
       "      <th></th>\n",
       "      <th>0</th>\n",
       "      <th>1</th>\n",
       "      <th>2</th>\n",
       "    </tr>\n",
       "  </thead>\n",
       "  <tbody>\n",
       "    <tr>\n",
       "      <th>0</th>\n",
       "      <td>10</td>\n",
       "      <td>30</td>\n",
       "      <td>40</td>\n",
       "    </tr>\n",
       "    <tr>\n",
       "      <th>1</th>\n",
       "      <td>20</td>\n",
       "      <td>30</td>\n",
       "      <td>40</td>\n",
       "    </tr>\n",
       "    <tr>\n",
       "      <th>2</th>\n",
       "      <td>20</td>\n",
       "      <td>30</td>\n",
       "      <td>40</td>\n",
       "    </tr>\n",
       "    <tr>\n",
       "      <th>3</th>\n",
       "      <td>30</td>\n",
       "      <td>30</td>\n",
       "      <td>50</td>\n",
       "    </tr>\n",
       "    <tr>\n",
       "      <th>4</th>\n",
       "      <td>20</td>\n",
       "      <td>30</td>\n",
       "      <td>40</td>\n",
       "    </tr>\n",
       "  </tbody>\n",
       "</table>\n",
       "</div>"
      ]
     },
     "execution_count": 76,
     "metadata": {},
     "output_type": "execute_result"
    }
   ],
   "execution_count": 76
  },
  {
   "metadata": {},
   "cell_type": "markdown",
   "source": "## リスト 2.34",
   "id": "c11d606bf7ba5b65"
  },
  {
   "metadata": {
    "ExecuteTime": {
     "end_time": "2024-09-24T01:27:35.200926Z",
     "start_time": "2024-09-24T01:27:35.195551Z"
    }
   },
   "cell_type": "code",
   "source": "dfA.duplicated().value_counts()",
   "id": "d691c59051d2b2dd",
   "outputs": [
    {
     "data": {
      "text/plain": [
       "False    3\n",
       "True     2\n",
       "Name: count, dtype: int64"
      ]
     },
     "execution_count": 77,
     "metadata": {},
     "output_type": "execute_result"
    }
   ],
   "execution_count": 77
  },
  {
   "metadata": {},
   "cell_type": "markdown",
   "source": "## リスト 2.35",
   "id": "e272ffa190962ab8"
  },
  {
   "metadata": {
    "ExecuteTime": {
     "end_time": "2024-09-24T01:27:35.342072Z",
     "start_time": "2024-09-24T01:27:35.335317Z"
    }
   },
   "cell_type": "code",
   "source": [
    "dfB = dfA.drop_duplicates()\n",
    "dfB"
   ],
   "id": "a6cb7879149d232d",
   "outputs": [
    {
     "data": {
      "text/plain": [
       "    0   1   2\n",
       "0  10  30  40\n",
       "1  20  30  40\n",
       "3  30  30  50"
      ],
      "text/html": [
       "<div>\n",
       "<style scoped>\n",
       "    .dataframe tbody tr th:only-of-type {\n",
       "        vertical-align: middle;\n",
       "    }\n",
       "\n",
       "    .dataframe tbody tr th {\n",
       "        vertical-align: top;\n",
       "    }\n",
       "\n",
       "    .dataframe thead th {\n",
       "        text-align: right;\n",
       "    }\n",
       "</style>\n",
       "<table border=\"1\" class=\"dataframe\">\n",
       "  <thead>\n",
       "    <tr style=\"text-align: right;\">\n",
       "      <th></th>\n",
       "      <th>0</th>\n",
       "      <th>1</th>\n",
       "      <th>2</th>\n",
       "    </tr>\n",
       "  </thead>\n",
       "  <tbody>\n",
       "    <tr>\n",
       "      <th>0</th>\n",
       "      <td>10</td>\n",
       "      <td>30</td>\n",
       "      <td>40</td>\n",
       "    </tr>\n",
       "    <tr>\n",
       "      <th>1</th>\n",
       "      <td>20</td>\n",
       "      <td>30</td>\n",
       "      <td>40</td>\n",
       "    </tr>\n",
       "    <tr>\n",
       "      <th>3</th>\n",
       "      <td>30</td>\n",
       "      <td>30</td>\n",
       "      <td>50</td>\n",
       "    </tr>\n",
       "  </tbody>\n",
       "</table>\n",
       "</div>"
      ]
     },
     "execution_count": 78,
     "metadata": {},
     "output_type": "execute_result"
    }
   ],
   "execution_count": 78
  },
  {
   "metadata": {},
   "cell_type": "markdown",
   "source": [
    "# 文字列型のデータを数値に変換する\n",
    "\n",
    "データには文字列型のデータが含まれることがある。文字列型のデータを数値に変換する方法を紹介する。"
   ],
   "id": "2ed45fa2f7d019a4"
  },
  {
   "metadata": {},
   "cell_type": "markdown",
   "source": "## リスト 2.36",
   "id": "e9daa97ee58f8bb4"
  },
  {
   "metadata": {
    "ExecuteTime": {
     "end_time": "2024-09-24T01:27:35.430180Z",
     "start_time": "2024-09-24T01:27:35.423470Z"
    }
   },
   "cell_type": "code",
   "source": [
    "import pandas as pd\n",
    "\n",
    "data = {\n",
    "    'A': ['100', '300'],\n",
    "    'B': ['500', '1,500'],\n",
    "}\n",
    "\n",
    "dfA = pd.DataFrame(data)\n",
    "dfA"
   ],
   "id": "aa3cd0b2072abd56",
   "outputs": [
    {
     "data": {
      "text/plain": [
       "     A      B\n",
       "0  100    500\n",
       "1  300  1,500"
      ],
      "text/html": [
       "<div>\n",
       "<style scoped>\n",
       "    .dataframe tbody tr th:only-of-type {\n",
       "        vertical-align: middle;\n",
       "    }\n",
       "\n",
       "    .dataframe tbody tr th {\n",
       "        vertical-align: top;\n",
       "    }\n",
       "\n",
       "    .dataframe thead th {\n",
       "        text-align: right;\n",
       "    }\n",
       "</style>\n",
       "<table border=\"1\" class=\"dataframe\">\n",
       "  <thead>\n",
       "    <tr style=\"text-align: right;\">\n",
       "      <th></th>\n",
       "      <th>A</th>\n",
       "      <th>B</th>\n",
       "    </tr>\n",
       "  </thead>\n",
       "  <tbody>\n",
       "    <tr>\n",
       "      <th>0</th>\n",
       "      <td>100</td>\n",
       "      <td>500</td>\n",
       "    </tr>\n",
       "    <tr>\n",
       "      <th>1</th>\n",
       "      <td>300</td>\n",
       "      <td>1,500</td>\n",
       "    </tr>\n",
       "  </tbody>\n",
       "</table>\n",
       "</div>"
      ]
     },
     "execution_count": 79,
     "metadata": {},
     "output_type": "execute_result"
    }
   ],
   "execution_count": 79
  },
  {
   "metadata": {},
   "cell_type": "markdown",
   "source": "## リスト 2.37",
   "id": "9a178045046b094c"
  },
  {
   "metadata": {
    "ExecuteTime": {
     "end_time": "2024-09-24T01:27:35.624175Z",
     "start_time": "2024-09-24T01:27:35.619984Z"
    }
   },
   "cell_type": "code",
   "source": "dfA.dtypes",
   "id": "77980f87da7ab037",
   "outputs": [
    {
     "data": {
      "text/plain": [
       "A    object\n",
       "B    object\n",
       "dtype: object"
      ]
     },
     "execution_count": 80,
     "metadata": {},
     "output_type": "execute_result"
    }
   ],
   "execution_count": 80
  },
  {
   "metadata": {},
   "cell_type": "markdown",
   "source": "## リスト 2.38",
   "id": "f4495ea6dd2944a9"
  },
  {
   "metadata": {
    "ExecuteTime": {
     "end_time": "2024-09-24T01:27:35.736433Z",
     "start_time": "2024-09-24T01:27:35.731051Z"
    }
   },
   "cell_type": "code",
   "source": [
    "dfA['A'] = dfA['A'].astype(int)\n",
    "dfA.dtypes"
   ],
   "id": "9b7bbeef3b0c230b",
   "outputs": [
    {
     "data": {
      "text/plain": [
       "A     int32\n",
       "B    object\n",
       "dtype: object"
      ]
     },
     "execution_count": 81,
     "metadata": {},
     "output_type": "execute_result"
    }
   ],
   "execution_count": 81
  },
  {
   "metadata": {},
   "cell_type": "markdown",
   "source": "## リスト 2.39",
   "id": "35e6b50ee38d0d3d"
  },
  {
   "metadata": {
    "ExecuteTime": {
     "end_time": "2024-09-24T01:27:35.873375Z",
     "start_time": "2024-09-24T01:27:35.868703Z"
    }
   },
   "cell_type": "code",
   "source": [
    "dfA['B'] = dfA['B'].str.replace(',', '').astype(int)\n",
    "dfA.dtypes"
   ],
   "id": "8848bd9c353aa5e6",
   "outputs": [
    {
     "data": {
      "text/plain": [
       "A    int32\n",
       "B    int32\n",
       "dtype: object"
      ]
     },
     "execution_count": 82,
     "metadata": {},
     "output_type": "execute_result"
    }
   ],
   "execution_count": 82
  },
  {
   "metadata": {},
   "cell_type": "markdown",
   "source": "## リスト 2.40",
   "id": "3a45172cfee28615"
  },
  {
   "metadata": {
    "ExecuteTime": {
     "end_time": "2024-09-24T01:27:35.995247Z",
     "start_time": "2024-09-24T01:27:35.989760Z"
    }
   },
   "cell_type": "code",
   "source": "dfA",
   "id": "92b03d4dc711748b",
   "outputs": [
    {
     "data": {
      "text/plain": [
       "     A     B\n",
       "0  100   500\n",
       "1  300  1500"
      ],
      "text/html": [
       "<div>\n",
       "<style scoped>\n",
       "    .dataframe tbody tr th:only-of-type {\n",
       "        vertical-align: middle;\n",
       "    }\n",
       "\n",
       "    .dataframe tbody tr th {\n",
       "        vertical-align: top;\n",
       "    }\n",
       "\n",
       "    .dataframe thead th {\n",
       "        text-align: right;\n",
       "    }\n",
       "</style>\n",
       "<table border=\"1\" class=\"dataframe\">\n",
       "  <thead>\n",
       "    <tr style=\"text-align: right;\">\n",
       "      <th></th>\n",
       "      <th>A</th>\n",
       "      <th>B</th>\n",
       "    </tr>\n",
       "  </thead>\n",
       "  <tbody>\n",
       "    <tr>\n",
       "      <th>0</th>\n",
       "      <td>100</td>\n",
       "      <td>500</td>\n",
       "    </tr>\n",
       "    <tr>\n",
       "      <th>1</th>\n",
       "      <td>300</td>\n",
       "      <td>1500</td>\n",
       "    </tr>\n",
       "  </tbody>\n",
       "</table>\n",
       "</div>"
      ]
     },
     "execution_count": 83,
     "metadata": {},
     "output_type": "execute_result"
    }
   ],
   "execution_count": 83
  }
 ],
 "metadata": {
  "kernelspec": {
   "display_name": "Python 3",
   "language": "python",
   "name": "python3"
  },
  "language_info": {
   "codemirror_mode": {
    "name": "ipython",
    "version": 2
   },
   "file_extension": ".py",
   "mimetype": "text/x-python",
   "name": "python",
   "nbconvert_exporter": "python",
   "pygments_lexer": "ipython2",
   "version": "2.7.6"
  }
 },
 "nbformat": 4,
 "nbformat_minor": 5
}
