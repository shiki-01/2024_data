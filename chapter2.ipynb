{
 "cells": [
  {
   "metadata": {},
   "cell_type": "markdown",
   "source": "# データを平らに均す",
   "id": "5393cd1066188ae5"
  },
  {
   "metadata": {},
   "cell_type": "markdown",
   "source": "## リスト 3.1",
   "id": "8e6b70eb38617522"
  },
  {
   "metadata": {
    "ExecuteTime": {
     "end_time": "2024-09-24T01:24:40.746150Z",
     "start_time": "2024-09-24T01:24:40.739498Z"
    }
   },
   "cell_type": "code",
   "source": [
    "import pandas as pd\n",
    "\n",
    "data = {\n",
    "    'A クラス': [82, 89, 93, 85, 76],\n",
    "    'B クラス': [100, 62, 82, 70, 86],\n",
    "}\n",
    "\n",
    "df = pd.DataFrame(data)\n",
    "df"
   ],
   "id": "f1670c74f59d6ad8",
   "outputs": [
    {
     "data": {
      "text/plain": [
       "   A クラス  B クラス\n",
       "0     82    100\n",
       "1     89     62\n",
       "2     93     82\n",
       "3     85     70\n",
       "4     76     86"
      ],
      "text/html": [
       "<div>\n",
       "<style scoped>\n",
       "    .dataframe tbody tr th:only-of-type {\n",
       "        vertical-align: middle;\n",
       "    }\n",
       "\n",
       "    .dataframe tbody tr th {\n",
       "        vertical-align: top;\n",
       "    }\n",
       "\n",
       "    .dataframe thead th {\n",
       "        text-align: right;\n",
       "    }\n",
       "</style>\n",
       "<table border=\"1\" class=\"dataframe\">\n",
       "  <thead>\n",
       "    <tr style=\"text-align: right;\">\n",
       "      <th></th>\n",
       "      <th>A クラス</th>\n",
       "      <th>B クラス</th>\n",
       "    </tr>\n",
       "  </thead>\n",
       "  <tbody>\n",
       "    <tr>\n",
       "      <th>0</th>\n",
       "      <td>82</td>\n",
       "      <td>100</td>\n",
       "    </tr>\n",
       "    <tr>\n",
       "      <th>1</th>\n",
       "      <td>89</td>\n",
       "      <td>62</td>\n",
       "    </tr>\n",
       "    <tr>\n",
       "      <th>2</th>\n",
       "      <td>93</td>\n",
       "      <td>82</td>\n",
       "    </tr>\n",
       "    <tr>\n",
       "      <th>3</th>\n",
       "      <td>85</td>\n",
       "      <td>70</td>\n",
       "    </tr>\n",
       "    <tr>\n",
       "      <th>4</th>\n",
       "      <td>76</td>\n",
       "      <td>86</td>\n",
       "    </tr>\n",
       "  </tbody>\n",
       "</table>\n",
       "</div>"
      ]
     },
     "execution_count": 4,
     "metadata": {},
     "output_type": "execute_result"
    }
   ],
   "execution_count": 4
  },
  {
   "metadata": {},
   "cell_type": "markdown",
   "source": "## リスト 3.2",
   "id": "3b035bd043dfe16e"
  },
  {
   "metadata": {},
   "cell_type": "code",
   "outputs": [],
   "execution_count": null,
   "source": [
    "print('A クラス =', df['A クラス'].mean())\n",
    "print('B クラス =', df['B クラス'].mean())"
   ],
   "id": "8aea799e0c87f99a"
  },
  {
   "metadata": {},
   "cell_type": "markdown",
   "source": "## リスト 3.3",
   "id": "feab9b8c63ed1f89"
  },
  {
   "metadata": {},
   "cell_type": "code",
   "outputs": [],
   "execution_count": null,
   "source": "print(df.mean())",
   "id": "bd30ff78cfa115d2"
  },
  {
   "metadata": {},
   "cell_type": "markdown",
   "source": "## リスト 3.4",
   "id": "5be2b44084886c02"
  },
  {
   "metadata": {},
   "cell_type": "code",
   "outputs": [],
   "execution_count": null,
   "source": [
    "print(df.iloc[0]['A クラス'])\n",
    "print(df['A クラス'].mean())"
   ],
   "id": "4aeff0aea4e3e5b2"
  },
  {
   "metadata": {},
   "cell_type": "markdown",
   "source": "",
   "id": "b6794d51de5cf03d"
  }
 ],
 "metadata": {
  "kernelspec": {
   "display_name": "Python 3",
   "language": "python",
   "name": "python3"
  },
  "language_info": {
   "codemirror_mode": {
    "name": "ipython",
    "version": 2
   },
   "file_extension": ".py",
   "mimetype": "text/x-python",
   "name": "python",
   "nbconvert_exporter": "python",
   "pygments_lexer": "ipython2",
   "version": "2.7.6"
  }
 },
 "nbformat": 4,
 "nbformat_minor": 5
}
